{
 "cells": [
  {
   "cell_type": "code",
   "execution_count": 2,
   "id": "0d469ce1",
   "metadata": {},
   "outputs": [
    {
     "name": "stdout",
     "output_type": "stream",
     "text": [
      "Enter a positive integer :12\n",
      "Total time elapsed is 2.762486219406128\n"
     ]
    }
   ],
   "source": [
    "import time \n",
    "start = time.time()\n",
    "max_value = int(input(\"Enter a positive integer :\"))\n",
    "i = 0\n",
    "while i < max_value:\n",
    "    i += 1\n",
    "end = time.time()\n",
    "print(\"Total time elapsed is\", end - start)"
   ]
  },
  {
   "cell_type": "code",
   "execution_count": 1,
   "id": "37c34c14",
   "metadata": {},
   "outputs": [
    {
     "name": "stdout",
     "output_type": "stream",
     "text": [
      "Enter any positive number:1000\n",
      "The sum of all prime numbers from 2 to 1000 is 120381\n"
     ]
    }
   ],
   "source": [
    "x = int(input(\"Enter any positive number:\"))\n",
    "i = 0\n",
    "prime_list = []\n",
    "while i < x:\n",
    "    i += 1\n",
    "    prime_list.append(i)\n",
    "prime_list.remove(1)\n",
    "for element1 in prime_list:\n",
    "    if element1 > 2 and element1 % 2 == 0:\n",
    "        prime_list.remove(element1)\n",
    "for element1 in prime_list:\n",
    "    if element1 > 5 and element1 % 5 == 0:\n",
    "        prime_list.remove(element1)\n",
    "for element1 in prime_list:\n",
    "    for element2 in range(2, element1):\n",
    "        if element1 % element2 == 0:\n",
    "            prime_list.remove(element1)\n",
    "            break\n",
    "total = 0\n",
    "for element3 in prime_list:\n",
    "    total += element3\n",
    "print(\"The sum of all prime numbers from 2 to\", x, \"is\", total)"
   ]
  },
  {
   "cell_type": "code",
   "execution_count": 3,
   "id": "36c286df",
   "metadata": {},
   "outputs": [
    {
     "name": "stdout",
     "output_type": "stream",
     "text": [
      "Enter a positive number:29\n",
      "29 is a prime number\n"
     ]
    }
   ],
   "source": [
    "x = int(input(\"Enter a positive number:\"))\n",
    "list_divisor = []\n",
    "for guess in range(2, x):\n",
    "    if x % guess == 0:\n",
    "        list_divisor.append(guess)\n",
    "    else:\n",
    "        pass\n",
    "if len(list_divisor) == 0:\n",
    "    print(x, \"is a prime number\")\n",
    "else:\n",
    "    length = len(list_divisor)\n",
    "    print(\"The largest divisor of\", x, \"is\", list_divisor[length -1])"
   ]
  },
  {
   "cell_type": "code",
   "execution_count": 5,
   "id": "c2944ee2",
   "metadata": {},
   "outputs": [
    {
     "data": {
      "text/plain": [
       "[<matplotlib.lines.Line2D at 0x6f9aa7280>]"
      ]
     },
     "execution_count": 5,
     "metadata": {},
     "output_type": "execute_result"
    },
    {
     "data": {
      "image/png": "[encoded data removed]",
      "text/plain": [
       "<Figure size 640x480 with 1 Axes>"
      ]
     },
     "metadata": {},
     "output_type": "display_data"
    }
   ],
   "source": [
    "x = 123456\n",
    "epsilon = 0.01\n",
    "num_guess, low = 0,0\n",
    "high = max(1,x)\n",
    "ans = (high + low)/2\n",
    "while abs(ans**2 - x) >= epsilon:\n",
    "    num_guess += 1\n",
    "    if ans**2 < x:\n",
    "        low = ans\n",
    "    else:\n",
    "        high = ans \n",
    "    ans = (high + low)/2\n",
    "import matplotlib.pyplot as plt\n",
    "plt.plot(x,num_guess)\n",
    "# The graph has no shape"
   ]
  },
  {
   "cell_type": "code",
   "execution_count": 6,
   "id": "2b6cf70d",
   "metadata": {},
   "outputs": [
    {
     "data": {
      "text/plain": [
       "6.0"
      ]
     },
     "execution_count": 6,
     "metadata": {},
     "output_type": "execute_result"
    }
   ],
   "source": [
    "def product(a, b):\n",
    "    import math\n",
    "    log_a = math.log10(a)\n",
    "    log_b = math.log10(b)\n",
    "    sum_ab = log_a + log_b\n",
    "    ans = math.pow(10, sum_ab)\n",
    "    return ans\n",
    "\n",
    "product(2,3)"
   ]
  },
  {
   "cell_type": "code",
   "execution_count": null,
   "id": "f66474e7",
   "metadata": {},
   "outputs": [],
   "source": [
    "def gain_calculation(input_power, output_power):\n",
    "    power_ratio = output_power / input_power\n",
    "    import math \n",
    "    gain = 10 * (math.log10(power_ratio))\n",
    "    return gain"
   ]
  }
 ],
 "metadata": {
  "kernelspec": {
   "display_name": "Python 3 (ipykernel)",
   "language": "python",
   "name": "python3"
  },
  "language_info": {
   "codemirror_mode": {
    "name": "ipython",
    "version": 3
   },
   "file_extension": ".py",
   "mimetype": "text/x-python",
   "name": "python",
   "nbconvert_exporter": "python",
   "pygments_lexer": "ipython3",
   "version": "3.9.13"
  }
 },
 "nbformat": 4,
 "nbformat_minor": 5
}
